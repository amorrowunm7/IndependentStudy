{
 "cells": [
  {
   "cell_type": "markdown",
   "metadata": {},
   "source": [
    "\n",
    "# Part 1 - Hand Calculated Graph Centrality\n",
    "\n",
    "In this part, we will load the Kite network data and perform a graph centrality algorithm by hand. First we load the data again:"
   ]
  },
  {
   "cell_type": "code",
   "execution_count": 4,
   "metadata": {
    "collapsed": false
   },
   "outputs": [
    {
     "name": "stdout",
     "output_type": "stream",
     "text": [
      "PROGRESS: Finished parsing file /home/james/Development/Masters/IndependentStudy/Week1/kite_vertices.csv\n",
      "PROGRESS: Parsing completed. Parsed 10 lines in 0.018072 secs.\n",
      "------------------------------------------------------\n",
      "Inferred types from first line of file as \n",
      "column_type_hints=[str]\n",
      "If parsing fails due to incorrect types, you can correct\n",
      "the inferred type list above and pass it to read_csv in\n",
      "the column_type_hints argument\n",
      "------------------------------------------------------\n",
      "PROGRESS: Finished parsing file /home/james/Development/Masters/IndependentStudy/Week1/kite_vertices.csv\n",
      "PROGRESS: Parsing completed. Parsed 10 lines in 0.017847 secs.\n",
      "PROGRESS: Finished parsing file /home/james/Development/Masters/IndependentStudy/Week1/kite_edges.csv\n",
      "PROGRESS: Parsing completed. Parsed 18 lines in 0.019082 secs.\n",
      "------------------------------------------------------\n",
      "Inferred types from first line of file as \n",
      "column_type_hints=[str,str,str]\n",
      "If parsing fails due to incorrect types, you can correct\n",
      "the inferred type list above and pass it to read_csv in\n",
      "the column_type_hints argument\n",
      "------------------------------------------------------\n",
      "PROGRESS: Finished parsing file /home/james/Development/Masters/IndependentStudy/Week1/kite_edges.csv\n",
      "PROGRESS: Parsing completed. Parsed 18 lines in 0.016303 secs.\n"
     ]
    },
    {
     "data": {
      "application/javascript": [
       "$(\"head\").append($(\"<link/>\").attr({\n",
       "  rel:  \"stylesheet\",\n",
       "  type: \"text/css\",\n",
       "  href: \"//cdnjs.cloudflare.com/ajax/libs/font-awesome/4.1.0/css/font-awesome.min.css\"\n",
       "}));\n",
       "$(\"head\").append($(\"<link/>\").attr({\n",
       "  rel:  \"stylesheet\",\n",
       "  type: \"text/css\",\n",
       "  href: \"//dato.com/files/canvas/1.4.1/css/canvas.css\"\n",
       "}));\n",
       "\n",
       "            (function(){\n",
       "\n",
       "                var e = null;\n",
       "                if (typeof element == 'undefined') {\n",
       "                    var scripts = document.getElementsByTagName('script');\n",
       "                    var thisScriptTag = scripts[scripts.length-1];\n",
       "                    var parentDiv = thisScriptTag.parentNode;\n",
       "                    e = document.createElement('div');\n",
       "                    parentDiv.appendChild(e);\n",
       "                } else {\n",
       "                    e = element[0];\n",
       "                }\n",
       "\n",
       "                require(['//dato.com/files/canvas/1.4.1/js/ipython_app.js'], function(IPythonApp){\n",
       "                    var app = new IPythonApp();\n",
       "                    app.attachView('sgraph','View', {\"edges_labels\": null, \"selected_variable\": {\"name\": [\"g_kite\"], \"view_component\": \"View\", \"view_file\": \"sgraph\", \"view_params\": {\"vlabel_hover\": false, \"arrows\": false, \"ewidth\": 1, \"elabel_hover\": false, \"vertex_positions\": null, \"h_offset\": 0.0, \"node_size\": 300, \"elabel\": null, \"ecolor\": [0.37, 0.33, 0.33], \"vlabel\": \"id\", \"vcolor\": [0.522, 0.741, 0.0], \"highlight\": {}, \"v_offset\": 0.03}, \"view_components\": [\"View\"], \"type\": \"SGraph\", \"descriptives_links\": {\"edges\": \"edges\", \"vertices\": \"vertices\"}, \"descriptives\": {\"edges\": 18, \"vertices\": 10}}, \"positions\": null, \"error_type\": 0, \"vertices\": [\"Beverly\", \"Fernando\", \"Jane\", \"Ed\", \"Diane\", \"Garth\", \"Andre\", \"Carol\", \"Ike\", \"Heather\"], \"vertices_labels\": [\"Beverly\", \"Fernando\", \"Jane\", \"Ed\", \"Diane\", \"Garth\", \"Andre\", \"Carol\", \"Ike\", \"Heather\"], \"edges\": [[\"Beverly\", \"Diane\"], [\"Beverly\", \"Ed\"], [\"Beverly\", \"Garth\"], [\"Fernando\", \"Garth\"], [\"Fernando\", \"Heather\"], [\"Diane\", \"Fernando\"], [\"Diane\", \"Ed\"], [\"Diane\", \"Garth\"], [\"Ed\", \"Garth\"], [\"Garth\", \"Heather\"], [\"Andre\", \"Beverly\"], [\"Andre\", \"Fernando\"], [\"Andre\", \"Diane\"], [\"Andre\", \"Carol\"], [\"Carol\", \"Fernando\"], [\"Carol\", \"Diane\"], [\"Ike\", \"Jane\"], [\"Heather\", \"Ike\"]], \"ipython\": true, \"error_msg\": \"\"}, e);\n",
       "                });\n",
       "            })();\n",
       "        "
      ],
      "text/plain": [
       "<IPython.core.display.Javascript object>"
      ]
     },
     "execution_count": 4,
     "metadata": {},
     "output_type": "execute_result"
    }
   ],
   "source": [
    "# Hide some silly output\n",
    "import logging\n",
    "logging.getLogger(\"requests\").setLevel(logging.WARNING)\n",
    "logging.getLogger(\"urllib3\").setLevel(logging.WARNING)\n",
    "\n",
    "# Import everything we need\n",
    "import graphlab as gl\n",
    "\n",
    "# Load Data\n",
    "kite_vertices = gl.SFrame.read_csv('../Week1/kite_vertices.csv')\n",
    "kite_edges = gl.SFrame.read_csv('../Week1/kite_edges.csv')\n",
    "\n",
    "# Create graph\n",
    "g_kite = gl.SGraph()\n",
    "g_kite = g_kite.add_vertices(vertices=kite_vertices, vid_field='name')\n",
    "g_kite = g_kite.add_edges(edges=kite_edges, src_field='src', dst_field='dst')\n",
    "\n",
    "# Visualize graph?\n",
    "gl.canvas.set_target('ipynb')\n",
    "g_kite.show(vlabel=\"id\")"
   ]
  },
  {
   "cell_type": "markdown",
   "metadata": {},
   "source": [
    "# Part 2 - Crawling Social Data\n",
    "\n",
    "In this part, I will use the Twitter / Facebook / LinkedIn API to download a graphical data of my portion of the social graph, and attempt to visualize it in Gephi or Neo4J.\n",
    "\n",
    "## 2.1 - Facebook API"
   ]
  },
  {
   "cell_type": "code",
   "execution_count": 6,
   "metadata": {
    "collapsed": false
   },
   "outputs": [
    {
     "name": "stdout",
     "output_type": "stream",
     "text": [
      "{\n",
      " \"friends\": {\n",
      "  \"data\": [], \n",
      "  \"summary\": {\n",
      "   \"total_count\": 214\n",
      "  }\n",
      " }, \n",
      " \"id\": \"684051972564\", \n",
      " \"name\": \"James Quacinella\"\n",
      "}\n"
     ]
    }
   ],
   "source": [
    "import requests\n",
    "import json\n",
    "\n",
    "ACCESS_TOKEN=\"CAAFokc3kSoEBALJY8T8qtg1q5Frfc9PYMgjBqHocZBf5a0kwfsKi0AGpZApw5iEKAZBQlVAQMCZBGcKJglbVHkZB2n2pwquMHWrZAgrhpGqHbVLbXMsmHjAvQfnHP4u1Mx2CQ0CHAJNMme9j4ozJut1MBf9V2ZCxYHZA2wVcDxZBOa9WaDwJNOAiR7wJcsZCh7Of7VvG3rvz7ZAeM4wiFvV0SRN2lfnYVwbN206oEUnJJhgogZDZD\"\n",
    "\n",
    "base_url = 'https://graph.facebook.com/me'\n",
    "\n",
    "# Get 10 likes for 10 friends\n",
    "fields = 'id,name,friends.fields(likes.limit(10))'\n",
    "url = '%s?fields=%s&access_token=%s' % (base_url, fields, ACCESS_TOKEN,)\n",
    "\n",
    "# Interpret the response as JSON and convert back to Python data structures\n",
    "content = requests.get(url).json()\n",
    "\n",
    "# Pretty-print the JSON and display it\n",
    "print json.dumps(content, indent=1)"
   ]
  },
  {
   "cell_type": "markdown",
   "metadata": {},
   "source": [
    "What? No friends?! Researching this brought me to https://github.com/ptwobrussell/Mining-the-Social-Web-2nd-Edition/issues/191, which states that the API only gives back results for users who give permission to the Oauth app generated by me. Much of the API calls and graph explorer are different now, so much of the book does not apply now.\n",
    "\n",
    "Moving on to LinkedIn ...\n",
    "\n",
    "## 2.2 - LinkedIn\n",
    "\n",
    "Sadly, the [same issue](https://github.com/ozgur/python-linkedin/issues/78) has arisen with LinkedIn. The API is no longer giving out access to Oauth 1.0 tokens and have substantially altered the API. Even the book's website has an [open github issue](https://github.com/ptwobrussell/Mining-the-Social-Web-2nd-Edition/issues/274) about this."
   ]
  },
  {
   "cell_type": "markdown",
   "metadata": {},
   "source": [
    "# Part 3 - Textual Analysis of Tweets from Political ThinkTanks\n",
    "\n",
    "In this part, I will download the tweet streams from different political 'think tanks' and perform a simple frequency analysis to see if there are any insights we can derive about the political leanings of these institutions. As an example of what tweet strams I will parse:\n",
    "\n",
    "- https://twitter.com/fairmediawatch - Fairness and Accuracy In Reporting\n",
    "- https://twitter.com/AccuracyInMedia - Accuracy In Media\n",
    "- https://twitter.com/ips_dc - Institute for Policy Studies\n",
    "- https://twitter.com/heritage - Heritage Foundation\n",
    "\n",
    "## 3.1 - Prep Work"
   ]
  },
  {
   "cell_type": "code",
   "execution_count": 9,
   "metadata": {
    "collapsed": false,
    "scrolled": false
   },
   "outputs": [
    {
     "name": "stdout",
     "output_type": "stream",
     "text": [
      "+--------------------------------------------------------------+----------------------------------------------+\n",
      "| Tweet Status                                                 | Expanded URLs                                |\n",
      "+--------------------------------------------------------------+----------------------------------------------+\n",
      "| That most US terrorists aren't Muslim \"may come as a         | http://bit.ly/1J7XVYL                        |\n",
      "| surprise\"--especially if you rely on corporate media.        |                                              |\n",
      "| http://t.co/J5bn1tQzRY                                       |                                              |\n",
      "| Baltimore \"gang threat\" swallowed by media was found to be   | http://bit.ly/1RxKvr6                        |\n",
      "| \"non-credible\" by FBI. @Vice @AdamJohnsonNYC                 |                                              |\n",
      "| http://t.co/4kZSXwnRka                                       |                                              |\n",
      "| Downplaying right's role in radicalizing Dylann Roof,        | http://bit.ly/1IeDNFQ                        |\n",
      "| corporate media preferred to pathologize him.                |                                              |\n",
      "| @BenjaminNorton http://t.co/am9Osetsnx                       |                                              |\n",
      "| How @PolitiFact manages to decide that it's \"mostly false\"   | http://bit.ly/1Jj6xP0                        |\n",
      "| to say that mass violence happens more frequently in US.     |                                              |\n",
      "| http://t.co/ZucxwZWcBt                                       |                                              |\n",
      "| &gt;@SaharaReporters covered #Charleston right: naming the   | http://bit.ly/1GxGlJI                        |\n",
      "| crime as \"terrorism\" &amp; focusing on killing of state      |                                              |\n",
      "| senator. http://t.co/mXg9lq9y5X                              |                                              |\n",
      "| \"I remember being a white male his age\": WaPo's @PBump,      | http://bit.ly/1eEVRO3                        |\n",
      "| arguing for not calling Dylann Roof a \"terrorist.\"           |                                              |\n",
      "| http://t.co/nsbPBQXrbX                                       |                                              |\n",
      "| Day after Boston bombing, 34% of newspaper stories referred  | http://bit.ly/1dVhCIv                        |\n",
      "| to \"terrorism\"; day after Charleston, 7% did so.             |                                              |\n",
      "| http://t.co/QzSfuTy3Aq                                       |                                              |\n",
      "| Women's sports are booming--but TV covers them less than it  | http://bit.ly/1K1UMLt                        |\n",
      "| did 10, 15, 20 or 25 years ago. @ProfCooky                   |                                              |\n",
      "| http://t.co/KBBCEbVO8R                                       |                                              |\n",
      "| CounterSpin talks to @KBZeese about corporate media blackout | http://bit.ly/1dOi4It                        |\n",
      "| of popular resistance to #TPP. http://t.co/jpzcrZp7G4        |                                              |\n",
      "| &gt;@NYTDavidBrooks says Mexican economy up, immigration     | http://bit.ly/1H1Z7zk                        |\n",
      "| down since NAFTA. Wrong &amp; wrong. http://t.co/ARTCDGmy81  |                                              |\n",
      "| http://t.co/4X6xffWThU                                       |                                              |\n",
      "| How corporate media treat @SenSanders like a sideshow.       | http://bit.ly/1H21kLb                        |\n",
      "| @AdamJohnsonNYC http://t.co/korGR4ihwa                       |                                              |\n",
      "| &gt;@NYTimes blames California drought on avocado-eaters--   | http://bit.ly/1InxawC                        |\n",
      "| reducing environmental crisis to consumer product choices.   |                                              |\n",
      "| http://t.co/hdSP9MEaj2                                       |                                              |\n",
      "| &gt;@NYTDavidBrooks' fact-challenged defense of TPP shows    | http://bit.ly/1H1Z7zk                        |\n",
      "| desperation of 1 Percenters: @DeanBaker13                    |                                              |\n",
      "| http://t.co/ARTCDGmy81                                       |                                              |\n",
      "| \"Torture victims are...barred from testifying about what the | http://bit.ly/1TuZCVP                        |\n",
      "| CIA did to them--torture architects are TV pundits.\"         |                                              |\n",
      "| http://t.co/60gNullIe2                                       |                                              |\n",
      "| Jane Brody's column on GMO food was slightly more convincing | http://nyti.ms/1JW9BPKhttp://nyti.ms/1R5LJcE |\n",
      "| http://t.co/wLZymRWTdO before the corrections.               |                                              |\n",
      "| http://t.co/G99uqlPhjs                                       |                                              |\n",
      "| Chris Cilizza @TheHyperFix thinks if you knew what you       | http://bit.ly/1JOOQ8k                        |\n",
      "| wanted, you'd want Lindsey Graham. http://t.co/FnnamT8x49    |                                              |\n",
      "| CounterSpin talks to Jessa Wilcox of @VeraInstitute about    | http://bit.ly/1Fdb2CX                        |\n",
      "| media misinformation on solitary confinement.                |                                              |\n",
      "| http://t.co/QtH8vwaOPV                                       |                                              |\n",
      "| \"Making stuff up for the cause always sells in official      | http://bit.ly/1I3OmqH                        |\n",
      "| Washington\": @DeanBaker13 on #TPP http://t.co/Mx8mhNb2oA     |                                              |\n",
      "| Josmar Trujillo of @AgainstBratton on how NYC media spin     | http://bit.ly/1BZqnXA                        |\n",
      "| crime stats to promote police power. http://t.co/2rqgwTDoUp  |                                              |\n",
      "| You’re 63% less likely to be murdered in de Blasio’s         | http://bit.ly/1BZqnXA                        |\n",
      "| Manhattan than Giuliani’s--but @NYPost won't say that.       |                                              |\n",
      "| http://t.co/2rqgwTDoUp                                       |                                              |\n",
      "| CNN hopes its “trustworthiness” will make its “news-like     | http://bit.ly/1JA0u8F                        |\n",
      "| content” for advertisers valuable.  http://t.co/EcGUelCIIo   |                                              |\n",
      "| http://t.co/yR3T21RQol                                       |                                              |\n",
      "| &gt;@CNN has a new unit to produce “news-like content on     | http://bit.ly/1JA0u8F                        |\n",
      "| behalf of advertisers.” Its name? \"Courageous.\"              |                                              |\n",
      "| http://t.co/EcGUelCIIo                                       |                                              |\n",
      "| &gt;@AP calls police violence \"incidents involving...black   | http://bit.ly/1G7CnKI                        |\n",
      "| suspects\"--as if everyone shot by cops is a \"suspect.\"       |                                              |\n",
      "| http://t.co/BJhIE82VZ4                                       |                                              |\n",
      "| &gt;@MaxBoot responds to @GGreenwald: My error only proves   | http://bit.ly/1GjbtRghttp://bit.ly/1QCIXeY   |\n",
      "| me right: http://t.co/bDeyycmFZU Still hasn't corrected      |                                              |\n",
      "| post: http://t.co/HlQhOG206k                                 |                                              |\n",
      "| Still no correction from @Commentary of @MaxBoot's           | http://bit.ly/1It2WxF                        |\n",
      "| indisputable error in his essay on #EdwardSnowden.           |                                              |\n",
      "| http://t.co/wy7GAwNZIm                                       |                                              |\n",
      "| Oddly, @MaxBoot wrongly says Snowden ignored Russia in his   | http://bit.ly/1It2WxF                        |\n",
      "| @NYTimes op-ed--then refuses to correct his mistake.         |                                              |\n",
      "| http://t.co/wy7GAwNZIm                                       |                                              |\n",
      "| \"NSA Data Collection Ended\": How @USAToday's headline is     | http://bit.ly/1QxyJfP                        |\n",
      "| wrong four different ways. @JNaureckas                       |                                              |\n",
      "| http://t.co/z6w4YSTOo5                                       |                                              |\n",
      "| On CounterSpin, @Sueudry of @DefendDissent: Is USA Freedom   | http://bit.ly/1FyhghZ                        |\n",
      "| Act a step toward halting mass surveillance or not?          |                                              |\n",
      "| http://t.co/A9mdxV2weg                                       |                                              |\n",
      "| &gt;@tomfriedman uses Baltimore Uprising as excuse to run a  | http://bit.ly/1JrlTiR                        |\n",
      "| commercial for his wife’s charter school. @AdamJohnsonNYC    |                                              |\n",
      "| http://t.co/ekWfTAPvZt                                       |                                              |\n",
      "| If people are already having trouble affording homes, why    | http://bit.ly/1FU8VaI                        |\n",
      "| does @NYTimes want them to be more expensive? @DeanBaker13   |                                              |\n",
      "| http://t.co/9M2Ca7IYzd                                       |                                              |\n",
      "| The popular issues that make Sanders \"unelectable,\"          | http://bit.ly/1AM3UlI                        |\n",
      "| according to @NYTimes. @JNaureckas on @CommonDreams:         |                                              |\n",
      "| http://t.co/XMGOjZv8Xm                                       |                                              |\n",
      "| Janine Jackson demolishes white male media self-pity in 1    | http://bit.ly/1cwc8Tq                        |\n",
      "| minute 56 seconds. @BestOfTheLeft @MichaelWolffNYC           |                                              |\n",
      "| http://t.co/oUdTYyjcH5                                       |                                              |\n",
      "| &gt;@NYTimes suggests Iowa Dems will find #BernieSanders     | http://bit.ly/1M1f1HU                        |\n",
      "| \"unelectable\"--because he favors taxing rich, like 3/5 of    |                                              |\n",
      "| US. http://t.co/9zvmynFEiE                                   |                                              |\n",
      "| On @FaceTheNation, \"all segments of American life\" means GOP | http://bit.ly/1KIFfBJ                        |\n",
      "| + CIA. @JNaureckas on @BobSchieffer's last show.             |                                              |\n",
      "| http://t.co/ntg5GJ5OJo                                       |                                              |\n",
      "| This week's CounterSpin: @BartNaylor on corporate media's    | http://bit.ly/1FI5bsR                        |\n",
      "| dangerous indifference to questions of criminal banks.       |                                              |\n",
      "| http://t.co/Kx8VpYZVtb                                       |                                              |\n",
      "| A Fed interest rate hike will really impact your life. But   | http://bit.ly/1GGQRCX                        |\n",
      "| @NPR wants you to worry about the deficit. @DeanBaker13:     |                                              |\n",
      "| http://t.co/BJ9cPpa33G                                       |                                              |\n",
      "| Teddy White: The \"strain\" of journalism is writing as if     | http://bit.ly/1Hynu1I                        |\n",
      "| \"what is true and what is fraud\" can't be distinguished.     |                                              |\n",
      "| http://t.co/n9zcu20RJp                                       |                                              |\n",
      "| &gt;@NYTOpinion's deceptive case for Democrats being \"too    | http://bit.ly/1cl9Gz0                        |\n",
      "| far left\": @JNaureckas on @CommonDreams                      |                                              |\n",
      "| http://t.co/3AkOwHg5ba                                       |                                              |\n",
      "| &gt;@NYTOpinion argues Obama to left of Clinton based on     | http://bit.ly/1cl9Gz0                        |\n",
      "| deficit spending. In reality, Obama did more to reduce       |                                              |\n",
      "| deficit. http://t.co/3AkOwHg5ba                              |                                              |\n",
      "| Are Democrats \"Too Far Left?\" Of course @NYTOpinion answers  | http://bit.ly/1RoLOKF                        |\n",
      "| yes--but still surprises with degree of dishonesty.          |                                              |\n",
      "| http://t.co/cvzb3QOlUW                                       |                                              |\n",
      "| If media really wanted to prevent dissemination of ISIS      | http://bit.ly/1dybGFE                        |\n",
      "| propaganda, they could stop disseminating ISIS propaganda.   |                                              |\n",
      "| http://t.co/MUhbvB0Ap2                                       |                                              |\n",
      "| &gt;@NYTimes covered Cruz, Paul, Rubio campaign kick-offs on | http://bit.ly/1KzJhwd                        |\n",
      "| Page 1. #BernieSanders? A21. @CJR @Sulliview                 |                                              |\n",
      "| http://t.co/SnHKzl86g9                                       |                                              |\n",
      "| The most effective vehicle for disseminating ISIS propaganda | http://bit.ly/1HJnJg0                        |\n",
      "| is the Western media outrage machine. @AdamJohnsonNYC        |                                              |\n",
      "| http://t.co/jZ0u9UuZJo                                       |                                              |\n",
      "| &gt;@NYTimes describes workplace repression of women as      | http://bit.ly/1F8UBYo                        |\n",
      "| “unintended” impact of family-friendly policies. @clairecm   |                                              |\n",
      "| http://t.co/EC5xdLLSpi                                       |                                              |\n",
      "+--------------------------------------------------------------+----------------------------------------------+\n"
     ]
    }
   ],
   "source": [
    "# Lets load up the Twitter API\n",
    "import twitter\n",
    "import prettytable\n",
    "\n",
    "# Lets create out api object w/ OAuth parameters\n",
    "api = twitter.Api(consumer_key='yp4wi4FASXbsRKa6JxYqzhUlH',\n",
    "                consumer_secret='Wkh1d5ygAOp4Bp65syFzHRN4xQsS8O4FvU3zHWosX8NXCqMpcl',\n",
    "                access_token_key='16562593-F6lRFe7iyoQEahezhPmaI64oInHZD0LNpcIbbq7Wy',\n",
    "                access_token_secret='weregYL8n6DI7yZy9pkizIJ78rH2GY02Do9jvpTe7rCey')\n",
    "\n",
    "# Grab FAIR's tweet stream\n",
    "#\n",
    "# NOTE: do not include retweets, too many dupes (though for text analysis this might be a \n",
    "#      way to weigh more heavily text from tweets that are being retweeted by the account)\n",
    "statuses = api.GetUserTimeline(screen_name='fairmediawatch', count=500, include_rts=False)\n",
    "\n",
    "# Create a pretty table of tweet contents and any expanded urls\n",
    "pt = prettytable.PrettyTable([\"Tweet Status\", \"Expanded URLs\"])\n",
    "pt.align[\"Tweet Status\"] = \"l\" # Left align city names\n",
    "pt.align[\"Expanded URLs\"] = \"l\" # Left align city names\n",
    "pt.max_width = 60 \n",
    "pt.padding_width = 1 # One space between column edges and contents (default)\n",
    "\n",
    "# Add rows to the pretty table\n",
    "for status in statuses:\n",
    "    pt.add_row([status.text, \"\".join([url.expanded_url for url in status.urls]) ])\n",
    "\n",
    "# Lets see the results!\n",
    "print pt"
   ]
  },
  {
   "cell_type": "markdown",
   "metadata": {
    "collapsed": true
   },
   "source": [
    "## Part 3.2 - Getting Recent Tweets from All Accounts\n",
    "\n",
    "Lets get the tweets for all the accounts, and store them in a dictionary:"
   ]
  },
  {
   "cell_type": "code",
   "execution_count": 10,
   "metadata": {
    "collapsed": true
   },
   "outputs": [],
   "source": [
    "# List of accounts to process, and our results dict\n",
    "accounts = ['fairmediawatch', 'AccuracyInMedia', 'ips_dc', 'heritage']\n",
    "allStatuses = { }\n",
    "\n",
    "# For each account, query tiwtter for top tweets\n",
    "for account in accounts:\n",
    "    allStatuses[account] = api.GetUserTimeline(screen_name=account, count=500, include_rts=False)\n",
    "\n",
    "# Save results\n",
    "import pickle\n",
    "pickle.dump( allStatuses, open( \"allStatuses\", \"wb\" ) )"
   ]
  },
  {
   "cell_type": "code",
   "execution_count": null,
   "metadata": {
    "collapsed": true
   },
   "outputs": [],
   "source": []
  }
 ],
 "metadata": {
  "kernelspec": {
   "display_name": "Python 2",
   "language": "python",
   "name": "python2"
  },
  "language_info": {
   "codemirror_mode": {
    "name": "ipython",
    "version": 2
   },
   "file_extension": ".py",
   "mimetype": "text/x-python",
   "name": "python",
   "nbconvert_exporter": "python",
   "pygments_lexer": "ipython2",
   "version": "2.7.6"
  }
 },
 "nbformat": 4,
 "nbformat_minor": 0
}
